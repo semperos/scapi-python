{
 "cells": [
  {
   "cell_type": "markdown",
   "id": "595c1a9a-39fb-454c-a91a-286e645d0a00",
   "metadata": {},
   "source": [
    "# Simple Shortcut API Client"
   ]
  },
  {
   "cell_type": "markdown",
   "id": "ba4049bb-d9ba-4dfb-8c7d-dad9b64ce5a4",
   "metadata": {},
   "source": [
    "This Jupyter notebook provides example usage of this simple Python Shortcut API client."
   ]
  },
  {
   "cell_type": "markdown",
   "id": "9b74c2e8-3c39-486d-92f4-f2a3bfbaf845",
   "metadata": {},
   "source": [
    "## Getting Started"
   ]
  },
  {
   "cell_type": "code",
   "execution_count": 53,
   "id": "8ec1760d-552c-42f8-9ca7-97b183ce972f",
   "metadata": {},
   "outputs": [],
   "source": [
    "from scapi import ShortcutClient"
   ]
  },
  {
   "cell_type": "code",
   "execution_count": 33,
   "id": "9c2c5618-b681-45c0-9ab8-3502d7c72385",
   "metadata": {},
   "outputs": [],
   "source": [
    "# Other things to import\n",
    "import datetime"
   ]
  },
  {
   "cell_type": "code",
   "execution_count": 5,
   "id": "f78eb725-239e-4987-b162-296b4dbe4f83",
   "metadata": {},
   "outputs": [],
   "source": [
    "# If this complains about SHORTCUT_API_TOKEN, check out the README.md for instructions\n",
    "client = ShortcutClient().validate()"
   ]
  },
  {
   "cell_type": "code",
   "execution_count": 8,
   "id": "a835c4a9-a70a-42d1-a53f-2098d037a87b",
   "metadata": {},
   "outputs": [
    {
     "data": {
      "text/plain": [
       "{'id': '66105996-2f33-4dee-8066-3e9d7b8098d9',\n",
       " 'name': 'Daniel | Gregoire',\n",
       " 'mention_name': 'danielgregoire7246',\n",
       " 'workspace2': {'url_slug': 'shortcut-pivotal-import',\n",
       "  'estimate_scale': [0, 1, 2, 4, 8]}}"
      ]
     },
     "execution_count": 8,
     "metadata": {},
     "output_type": "execute_result"
    }
   ],
   "source": [
    "# Who am I?\n",
    "member = client.get_json('/member')\n",
    "member_id = member['id'] # for later\n",
    "member"
   ]
  },
  {
   "cell_type": "code",
   "execution_count": 9,
   "id": "6c04ebb6-6432-4545-a5b9-67989239fdf3",
   "metadata": {},
   "outputs": [
    {
     "data": {
      "text/plain": [
       "'shortcut-pivotal-import'"
      ]
     },
     "execution_count": 9,
     "metadata": {},
     "output_type": "execute_result"
    }
   ],
   "source": [
    "# What workspace am I in?\n",
    "client.get_json('/member')['workspace2']['url_slug']"
   ]
  },
  {
   "cell_type": "code",
   "execution_count": 11,
   "id": "b7235863-5b40-4a1c-a3e8-566a4fc78728",
   "metadata": {},
   "outputs": [
    {
     "data": {
      "text/plain": [
       "1219"
      ]
     },
     "execution_count": 11,
     "metadata": {},
     "output_type": "execute_result"
    }
   ],
   "source": [
    "# What stories do I currently own?\n",
    "my_stories = client.post_json('/stories/search', {'owner_ids': [member_id]})\n",
    "len(my_stories)"
   ]
  },
  {
   "cell_type": "code",
   "execution_count": 38,
   "id": "3250420c-0c23-425f-b539-24d8b5e5b88d",
   "metadata": {},
   "outputs": [
    {
     "data": {
      "text/plain": [
       "717"
      ]
     },
     "execution_count": 38,
     "metadata": {},
     "output_type": "execute_result"
    }
   ],
   "source": [
    "# How many are in an in-progress state?\n",
    "len([s for s in my_stories if s['started'] and not s['completed']])"
   ]
  },
  {
   "cell_type": "code",
   "execution_count": 36,
   "id": "881bc456-2b5e-4d01-981c-e712a966bf72",
   "metadata": {},
   "outputs": [
    {
     "data": {
      "text/plain": [
       "1219"
      ]
     },
     "execution_count": 36,
     "metadata": {},
     "output_type": "execute_result"
    }
   ],
   "source": [
    "# How many were started more than N days ago?\n",
    "ndays = 7\n",
    "ago = datetime.datetime.now(datetime.UTC) - timedelta(days=ndays)\n",
    "started = [datetime.datetime.fromisoformat(s['started_at']) for s in my_stories if s['started']]\n",
    "len([dt for dt in started if dt < ago])"
   ]
  },
  {
   "cell_type": "markdown",
   "id": "ca692535-7d9a-4f16-a176-2b415668e515",
   "metadata": {},
   "source": [
    "_NB: If you're interested in more analytical use-cases for Shortcut's API, you should review the [Analysis.ipynb](Analysis.ipynb) Jupyter notebook in the repo._"
   ]
  },
  {
   "cell_type": "markdown",
   "id": "5f3917f5-1e5a-442a-afd4-61542d6d7cc0",
   "metadata": {},
   "source": [
    "## Members & Groups"
   ]
  },
  {
   "cell_type": "markdown",
   "id": "3958f352-0b84-40e2-8b88-6d99ed090b3c",
   "metadata": {},
   "source": [
    "Shortcut calls users \"members\" and the v3 API calls teams \"groups\".\n",
    "\n",
    "Entities include references to the ids of members and groups in various places. If you need to see the full names or mention names of users and groups, you need to pull down `/members` and `/groups` ahead of time and create a mapping.\n",
    "\n",
    "Here's an example of creating a Python dict mapping member IDs to their mention names."
   ]
  },
  {
   "cell_type": "code",
   "execution_count": 40,
   "id": "69feda84-e3d0-4a85-8cbb-5a6f66f681a5",
   "metadata": {},
   "outputs": [
    {
     "data": {
      "text/plain": [
       "{'66105996-2f33-4dee-8066-3e9d7b8098d9': 'danielgregoire7246',\n",
       " '66105b5e-ec97-477e-b6ef-19c15132442c': 'daniel.l.gregoire+clubhousedanieltestlabs-1',\n",
       " '66105b5f-c478-4d56-ac90-9abe6d7ede1b': 'chrisdemwell',\n",
       " '66105b5f-07e9-4694-950a-65c665e1d867': 'osei.poku',\n",
       " '6615b0f7-0c5e-447a-a115-bdba38f44d54': 'daniel.gregoire+unknown',\n",
       " '66a2948b-4dd2-4e20-a550-671e2326e508': 'santiago1979',\n",
       " '66a3f20b-258e-4bb8-96ca-b9871a8bee1f': 'german0096',\n",
       " '66a7aa63-4b46-4cde-be6a-708336d7cfe5': 'aaguirre',\n",
       " '66aa78e4-700b-44de-996a-d1d86c95bf36': 'aaguirre+2',\n",
       " '66b4e5a9-81c9-41e2-a316-d7cffa0d871a': 'smunoz+1',\n",
       " '66ba7ac1-a7b0-4d8f-a5b2-24389a53cdd1': 'watash1a',\n",
       " '66c8c384-026e-4d2c-9749-a2ce7ea8cca7': 'bcfadmin1',\n",
       " '66cf541c-0ed9-4156-ad7a-734280685f7d': 'malcom+admin',\n",
       " '66cf59d3-07ef-4325-add6-4f806f2fdf59': 'mal9437',\n",
       " '66d0b7d9-c09b-4a5e-bcfc-0aaecbbce310': 'bcfpivotaladmin',\n",
       " '67587ac1-5d38-4b2e-9f8f-f7ba09d13dfe': 'mike_thorpe'}"
      ]
     },
     "execution_count": 40,
     "metadata": {},
     "output_type": "execute_result"
    }
   ],
   "source": [
    "members = client.get_json('/members')\n",
    "{m['id']:m['profile']['mention_name'] for m in members}"
   ]
  },
  {
   "cell_type": "markdown",
   "id": "7da3632f-a8fa-45b7-ac29-95481294b528",
   "metadata": {},
   "source": [
    "## Workflows and Workflow States"
   ]
  },
  {
   "cell_type": "markdown",
   "id": "899f1f13-3b05-44a2-8f0d-c134bb3518d7",
   "metadata": {},
   "source": [
    "Shortcut Stories are always in one Workflow State. Workflow States represents points in your project management process and are bucketed into backlog, unstarted, started, and done types.\n",
    "\n",
    "Every Workflow State has a unique ID that identifies it. Every Workflow State is also situated within a Workflow. If you're using a paid Shortcut plan, you're able to model how different teams at your company work by having distinct Workflows and constituent Workflow States.\n",
    "\n",
    "As with members and groups, Shortcut API payloads that refer to Workflow States do so with an ID. If you need to see the name of the Workflow State and/or Workflow, you'll need to request `/workflows` ahead of time and create a mapping.\n",
    "\n",
    "Here's an example of creating a mapping from Workflow State IDs to their names:"
   ]
  },
  {
   "cell_type": "code",
   "execution_count": 52,
   "id": "69a89775-1977-4eab-b7cc-67a80b99c9cd",
   "metadata": {},
   "outputs": [
    {
     "data": {
      "text/plain": [
       "{500000006: 'Backlog',\n",
       " 500000007: 'Unstarted',\n",
       " 500000008: 'In Progress',\n",
       " 500000009: 'In Review',\n",
       " 500000010: 'Done'}"
      ]
     },
     "execution_count": 52,
     "metadata": {},
     "output_type": "execute_result"
    }
   ],
   "source": [
    "workflows = client.get_json('/workflows')\n",
    "workflow_states_by_id = {}\n",
    "for w in workflows:\n",
    "    for s in w['states']:\n",
    "        workflow_states_by_id[s['id']] = s['name']\n",
    "workflow_states_by_id"
   ]
  },
  {
   "cell_type": "markdown",
   "id": "ad1c7a5f-3307-4321-b81d-2637f2241aeb",
   "metadata": {},
   "source": [
    "If in your scripts you need to distinguish workflows or workflow state types, make your value in this dict more complex and add entries for the things you need."
   ]
  },
  {
   "cell_type": "markdown",
   "id": "1d8dd264-de4d-42dc-ac6e-a02e1db8c87d",
   "metadata": {},
   "source": [
    "## Searching"
   ]
  },
  {
   "cell_type": "markdown",
   "id": "4db8b3da-b930-41ea-b127-bc1ce6d7f3f8",
   "metadata": {},
   "source": [
    "Shortcut's v3 REST API features two different endpoints for searching:\n",
    "\n",
    "- [Search Stories (Old)](https://developer.shortcut.com/api/rest/v3#Search-Stories-Old)\n",
    "- [Search](https://developer.shortcut.com/api/rest/v3#Search)\n",
    "\n",
    "The former provides a structured interface for querying story data in your Shortcut workspace. The second targets Shortcut's full-text search, operators for which are [documented in Shorcut's help center](https://help.shortcut.com/hc/en-us/articles/360000046646-Searching-in-Shortcut-Using-Search-Operators) and which searches across stories, epics, iterations, and objectives."
   ]
  },
  {
   "cell_type": "markdown",
   "id": "4c919080-f02f-47c5-aff2-1d5e32af0bbf",
   "metadata": {},
   "source": [
    "## Bulk Operations"
   ]
  },
  {
   "cell_type": "markdown",
   "id": "65f943df-b89d-49f1-a4b1-81f0d148e284",
   "metadata": {},
   "source": [
    "Shortcut's API allows performing bulk operations that are otherwise cumbersome to perform in the UI itself."
   ]
  },
  {
   "cell_type": "markdown",
   "id": "4bb9eba6-2d3c-4ed8-82bb-bf0518d06e63",
   "metadata": {},
   "source": [
    "The [Stories-specific endpoints](https://developer.shortcut.com/api/rest/v3#Stories) support first-class bulk operations for creating, updating, and deleting Shortcut Stories. Use these rather than individual API calls for faster performance and to avoid hitting the rate limit."
   ]
  },
  {
   "cell_type": "markdown",
   "id": "5acbc789-b840-4a5d-8eae-98777faac4ab",
   "metadata": {},
   "source": [
    "## Python Tips"
   ]
  },
  {
   "cell_type": "markdown",
   "id": "ba2b8054-50da-4848-b813-b144e19ba193",
   "metadata": {},
   "source": [
    "### What keys are in a given Shortcut entity?\n",
    "\n",
    "A sorted list of keys can be helpful for discovering or remembering what's available in a given Shortcut entity. When deserialized from JSON, these are represented as Python dicts."
   ]
  },
  {
   "cell_type": "code",
   "execution_count": 54,
   "id": "9509f630-f5e7-446d-bbf4-5a73cca530a7",
   "metadata": {},
   "outputs": [
    {
     "data": {
      "text/plain": [
       "['a', 'b', 'g']"
      ]
     },
     "execution_count": 54,
     "metadata": {},
     "output_type": "execute_result"
    }
   ],
   "source": [
    "my_dict = {'a':'alpha', 'g':'gamma', 'b':'beta'}\n",
    "sorted(my_dict.keys())"
   ]
  }
 ],
 "metadata": {
  "kernelspec": {
   "display_name": "Python 3 (ipykernel)",
   "language": "python",
   "name": "python3"
  },
  "language_info": {
   "codemirror_mode": {
    "name": "ipython",
    "version": 3
   },
   "file_extension": ".py",
   "mimetype": "text/x-python",
   "name": "python",
   "nbconvert_exporter": "python",
   "pygments_lexer": "ipython3",
   "version": "3.13.0"
  }
 },
 "nbformat": 4,
 "nbformat_minor": 5
}
